{
 "cells": [
  {
   "cell_type": "markdown",
   "metadata": {},
   "source": [
    "Please submit an electronic version of your Python Jupyter notebook on NYU Brightspace. Remember that this assignment is to be done individually. Solutions will be posted a few days after the due date (on Feb 20th), so assignments submitted until that day will receive a late penalty, but no late assignments will be accepted after the solutions are posted.\n",
    "\n",
    "Total points for this HW: 10\n",
    "\n",
    "Please note: Copying and pasting other people's work is absolutely prohibited.  Any such cases will be reported to CUSP's education team and severely punished. Discussion is encouraged, and feel free to exchange ideas with your classmates, but please write your own code and do your own work."
   ]
  },
  {
   "cell_type": "markdown",
   "metadata": {},
   "source": [
    "### Question 1: Accuracy and interpretability (10%)\n",
    "\n",
    "a) Describe a real-world prediction problem using urban data for which _interpretability_ of your models and results is essential, and for which it might be preferable to use decision trees rather than random forests.  Argue why this is the case. (3%)"
   ]
  },
  {
   "cell_type": "markdown",
   "metadata": {
    "tags": []
   },
   "source": [
    "#### Answer:\n",
    "\n",
    "(1) Describle a urban prediction problem\n",
    "\n",
    "topic: Decision tree models in predicting urban water quality\n",
    "\n",
    "model: In this model, the parameters of acidity, electrical conductivity, total dissolved solids, ammonia, temperature, sulfate, dissolved oxygen, and phosphorus have been used. By analyzing this, the government could formulate policies to address the significant factors and mitigate water pollution. Therefore, each variable and their coefficient matters.\n",
    "\n",
    "\n",
    "(2) Which is preferable, decision trees or random forests? Please explain the reason.\n",
    "\n",
    "choice: This model is preferable to use decision trees. \n",
    "\n",
    "reason: Because the model is mainly used to explain the variables that influence water quality rather than predicting the future trend of water quality. Also, assessing surface water quality parameters is costly and time-consuming. Dicision trees can use just a few parameters to predict while random forest cannot.\n",
    "____________________________________________________________________________________________________________"
   ]
  },
  {
   "cell_type": "markdown",
   "metadata": {},
   "source": [
    "b) Describe a real-world prediction problem using urban data for which _accuracy_ is paramount and interpretability may be less important, and for which it might be preferable to use random forests rather than decision trees.  Argue why this is the case. (3%)"
   ]
  },
  {
   "cell_type": "markdown",
   "metadata": {},
   "source": [
    "(1) Describle a urban prediction problem\n",
    "\n",
    "topic: predict the population distributions\n",
    "\n",
    "model: a two-level random forest method is proposed. The first-level random forest model is used to model the census variable and the covariables, and the second-level model is further applied to address the error term. By using this two-level model, population distribution can be predicted in urban functional zones identified based on an area-weighted POI proportion. \n",
    "\n",
    "\n",
    "(2) Which is preferable, decision trees or random forests? Please explain the reason.\n",
    "\n",
    "choice: The model is preferable to use random forests.\n",
    "\n",
    "reason: For the efficient allocation of tourism resources, the population distributions must be accurately predicted for government. Therefore, we do not care about which factors influence population distributions; instead, we focus on predicting the future trends of population distributions.\n",
    "____________________________________________________________________________________________________________"
   ]
  },
  {
   "cell_type": "markdown",
   "metadata": {},
   "source": [
    "c) Let's imagine that you want to try to get the best of both worlds (accuracy _and_ interpretability).  So you decide to start by learning a random forest classifier.  Describe at least one way of getting some interpretability out of the model by post-processing.  You could either pick a method from the literature (e.g., Domingos's work on combining multiple models or some method of computing variable importance), or come up with your own approach (doesn't have to be ground-breaking, but feel free to be creative!) (4%)"
   ]
  },
  {
   "cell_type": "markdown",
   "metadata": {},
   "source": [
    "One way of getting some interpretability out of the model by post-processing:( Domingos's work)\n",
    "\n",
    "Domingos introduces a meta-learner called CMM. Initially, we generate a training set comprising a substantial number of examples generated and classified based on the ensemble, in addition to the original examples. Next, utilizing the C4.5RULES base learner, we employ bagging as the multiple-model methodology to analyze the refined training set.\n",
    "____________________________________________________________________________________________________________"
   ]
  },
  {
   "cell_type": "markdown",
   "metadata": {},
   "source": [
    "###  Question 2: Build a decision tree for classification, step by step, following the lecture notes. Note that the dataset has been modified, so you may get a different tree than the one shown in the lecture notes.  (30%)"
   ]
  },
  {
   "cell_type": "code",
   "execution_count": 1,
   "metadata": {},
   "outputs": [],
   "source": [
    "import pandas as pd\n",
    "import numpy as np\n",
    "import os\n",
    "os.environ[\"PATH\"] += os.pathsep + 'D:/Users/Desktop/Graphviz/bin/'\n",
    "from sklearn.model_selection import train_test_split\n",
    "from sklearn.tree import DecisionTreeClassifier\n",
    "from sklearn.datasets import load_iris\n",
    "from sklearn import tree\n",
    "import pydotplus\n",
    "from IPython.display import Image\n",
    "from sklearn.tree import export_graphviz\n",
    "from sklearn.metrics import roc_auc_score\n",
    "from pyecharts import options as opts\n",
    "from pyecharts.charts import Tree\n",
    "from sklearn.ensemble import RandomForestClassifier\n",
    "import matplotlib.pyplot as plt"
   ]
  },
  {
   "cell_type": "code",
   "execution_count": 2,
   "metadata": {},
   "outputs": [
    {
     "data": {
      "text/html": [
       "<div>\n",
       "<style scoped>\n",
       "    .dataframe tbody tr th:only-of-type {\n",
       "        vertical-align: middle;\n",
       "    }\n",
       "\n",
       "    .dataframe tbody tr th {\n",
       "        vertical-align: top;\n",
       "    }\n",
       "\n",
       "    .dataframe thead th {\n",
       "        text-align: right;\n",
       "    }\n",
       "</style>\n",
       "<table border=\"1\" class=\"dataframe\">\n",
       "  <thead>\n",
       "    <tr style=\"text-align: right;\">\n",
       "      <th></th>\n",
       "      <th>MPG</th>\n",
       "      <th>cylinders</th>\n",
       "      <th>HP</th>\n",
       "      <th>weight</th>\n",
       "    </tr>\n",
       "  </thead>\n",
       "  <tbody>\n",
       "    <tr>\n",
       "      <th>0</th>\n",
       "      <td>good</td>\n",
       "      <td>4</td>\n",
       "      <td>75</td>\n",
       "      <td>light</td>\n",
       "    </tr>\n",
       "    <tr>\n",
       "      <th>1</th>\n",
       "      <td>bad</td>\n",
       "      <td>6</td>\n",
       "      <td>90</td>\n",
       "      <td>medium</td>\n",
       "    </tr>\n",
       "    <tr>\n",
       "      <th>2</th>\n",
       "      <td>bad</td>\n",
       "      <td>4</td>\n",
       "      <td>110</td>\n",
       "      <td>medium</td>\n",
       "    </tr>\n",
       "    <tr>\n",
       "      <th>3</th>\n",
       "      <td>bad</td>\n",
       "      <td>8</td>\n",
       "      <td>175</td>\n",
       "      <td>weighty</td>\n",
       "    </tr>\n",
       "    <tr>\n",
       "      <th>4</th>\n",
       "      <td>bad</td>\n",
       "      <td>6</td>\n",
       "      <td>95</td>\n",
       "      <td>medium</td>\n",
       "    </tr>\n",
       "  </tbody>\n",
       "</table>\n",
       "</div>"
      ],
      "text/plain": [
       "    MPG  cylinders   HP   weight\n",
       "0  good          4   75    light\n",
       "1   bad          6   90   medium\n",
       "2   bad          4  110   medium\n",
       "3   bad          8  175  weighty\n",
       "4   bad          6   95   medium"
      ]
     },
     "execution_count": 2,
     "metadata": {},
     "output_type": "execute_result"
    }
   ],
   "source": [
    "import io\n",
    "thefile = io.StringIO('MPG,cylinders,HP,weight\\ngood,4,75,light\\nbad,6,90,medium\\nbad,4,110,medium\\nbad,8,175,weighty\\nbad,6,95,medium\\nbad,4,94,light\\nbad,4,95,light\\nbad,8,139,weighty\\nbad,8,190,weighty\\nbad,8,145,weighty\\nbad,6,100,medium\\ngood,4,92,medium\\nbad,6,100,weighty\\nbad,8,170,weighty\\ngood,4,89,medium\\ngood,4,65,light\\nbad,6,85,medium\\ngood,4,81,light\\nbad,6,95,medium\\ngood,4,93,light')\n",
    "df = pd.read_csv(thefile)\n",
    "df.head()"
   ]
  },
  {
   "cell_type": "markdown",
   "metadata": {},
   "source": [
    "### Please use numpy and pandas to do the computation for parts a) through f).  Do not use an existing decision tree implementation like sklearn for this question."
   ]
  },
  {
   "cell_type": "markdown",
   "metadata": {},
   "source": [
    "a) Start with the entire dataset and find the most common MPG value. (2%)"
   ]
  },
  {
   "cell_type": "code",
   "execution_count": 3,
   "metadata": {},
   "outputs": [
    {
     "data": {
      "text/plain": [
       "array(['good', 'bad'], dtype=object)"
      ]
     },
     "execution_count": 3,
     "metadata": {},
     "output_type": "execute_result"
    }
   ],
   "source": [
    "df.MPG.unique()"
   ]
  },
  {
   "cell_type": "code",
   "execution_count": 4,
   "metadata": {
    "tags": []
   },
   "outputs": [],
   "source": [
    "good_count = int(df['MPG'].value_counts()['good'])\n",
    "bad_count= int(df['MPG'].value_counts()['bad'])"
   ]
  },
  {
   "cell_type": "code",
   "execution_count": 5,
   "metadata": {},
   "outputs": [
    {
     "name": "stdout",
     "output_type": "stream",
     "text": [
      "The most common MPG value is bad_count\n"
     ]
    }
   ],
   "source": [
    "if good_count>bad_count:\n",
    "    print(\"The most common MPG value is good_count\")\n",
    "elif good_count < bad_count:\n",
    "    print(\"The most common MPG value is bad_count\")\n",
    "else:\n",
    "    print(\"The numbers of per kind of MPG value are the same\")     "
   ]
  },
  {
   "cell_type": "code",
   "execution_count": 6,
   "metadata": {},
   "outputs": [],
   "source": [
    "def InformationGain(goodY, badY, goodN, badN):\n",
    "    def F(X, Y):\n",
    "        val1 = X * np.log2(1. * (X + Y) / X) if X > 0 else 0\n",
    "        val2 = Y * np.log2(1. * (X + Y) / Y) if Y > 0 else 0\n",
    "        return val1 + val2\n",
    "\n",
    "    total = goodY + goodN + badY + badN\n",
    "    if total == 0:\n",
    "        return 0\n",
    "    else:\n",
    "        return (F(goodY + goodN, badY + badN) - F(goodY, badY) - F(goodN, badN)) / total"
   ]
  },
  {
   "cell_type": "markdown",
   "metadata": {},
   "source": [
    "b) Enumerate all the possible binary questions you could ask for each discrete-valued variable.  For each such split, compute the numbers of \"good\" and \"bad\" MPG vehicles in each of the two child nodes, and compute the information gain using the provided function above. (5%)"
   ]
  },
  {
   "cell_type": "code",
   "execution_count": 7,
   "metadata": {
    "tags": []
   },
   "outputs": [],
   "source": [
    "good=df[df['MPG']=='good']\n",
    "bad=df[df['MPG']=='bad']"
   ]
  },
  {
   "cell_type": "code",
   "execution_count": 8,
   "metadata": {
    "tags": []
   },
   "outputs": [
    {
     "data": {
      "text/plain": [
       "cylinders\n",
       "4    9\n",
       "6    6\n",
       "8    5\n",
       "Name: count, dtype: int64"
      ]
     },
     "execution_count": 8,
     "metadata": {},
     "output_type": "execute_result"
    }
   ],
   "source": [
    "# cylinders\n",
    "df['cylinders'].value_counts()"
   ]
  },
  {
   "cell_type": "code",
   "execution_count": 9,
   "metadata": {
    "tags": []
   },
   "outputs": [
    {
     "name": "stdout",
     "output_type": "stream",
     "text": [
      "when split is cylinders = 4, InformationGain = 0.4680577739061723\n",
      "when split is cylinders = 6, InformationGain = 0.1916312040067166\n",
      "when split is cylinders = 8, InformationGain = 0.15307795338969116\n"
     ]
    }
   ],
   "source": [
    "# cylinders=4\n",
    "cylinders=(4,6,8)\n",
    "for i in cylinders:\n",
    "    if i in good['cylinders'].value_counts():\n",
    "        goodY = int(good['cylinders'].value_counts()[i])\n",
    "    else:\n",
    "            goodY = 0\n",
    "    goodN=int(good['cylinders'].value_counts().sum()) - int(goodY)\n",
    "    \n",
    "    if i in bad['cylinders'].value_counts():\n",
    "        badY = int(bad['cylinders'].value_counts()[i])\n",
    "    else:\n",
    "        badY = 0\n",
    "    badN=int(bad['cylinders'].value_counts().sum()) - int(badY)\n",
    "    IG_C=InformationGain(goodY,badY,goodN,badN)\n",
    "    print(\"when split is cylinders = {}, InformationGain = {}\" .format(i,IG_C))"
   ]
  },
  {
   "cell_type": "code",
   "execution_count": 10,
   "metadata": {
    "tags": []
   },
   "outputs": [
    {
     "data": {
      "text/plain": [
       "weight\n",
       "medium     8\n",
       "light      6\n",
       "weighty    6\n",
       "Name: count, dtype: int64"
      ]
     },
     "execution_count": 10,
     "metadata": {},
     "output_type": "execute_result"
    }
   ],
   "source": [
    "# weight\n",
    "df['weight'].value_counts()"
   ]
  },
  {
   "cell_type": "code",
   "execution_count": 11,
   "metadata": {
    "tags": []
   },
   "outputs": [
    {
     "name": "stdout",
     "output_type": "stream",
     "text": [
      "when split is weight = light, InformationGain = 0.1916312040067166\n",
      "when split is weight = medium, InformationGain = 0.0058021490143458365\n",
      "when split is weight = weighty, InformationGain = 0.1916312040067166\n"
     ]
    }
   ],
   "source": [
    "# \n",
    "weight = (\"light\", \"medium\", \"weighty\")\n",
    "for i in weight:\n",
    "    goodY = 0\n",
    "    goodN = 0\n",
    "    badY = 0\n",
    "    badN = 0\n",
    "    for w in good['weight']:\n",
    "        if w == i:\n",
    "            goodY += 1\n",
    "        else:\n",
    "            goodN += 1\n",
    "        \n",
    "    for w in bad['weight']:\n",
    "        if w == i:\n",
    "            badY += 1\n",
    "        else:\n",
    "            badN += 1\n",
    "    \n",
    "    IG = InformationGain(goodY, badY, goodN, badN)\n",
    "    print(\"when split is weight = {}, InformationGain = {}\".format(i, IG))"
   ]
  },
  {
   "cell_type": "markdown",
   "metadata": {},
   "source": [
    "c) Enumerate all the possible binary questions you could ask for the real-valued variable HP.  For each such split, compute the numbers of \"good\" and \"bad\" MPG vehicles in each of the two child nodes, and compute the information gain using the provided function above. (5%) \n",
    "\n",
    "NOTE: if you'd like, you can just use all midpoints between consecutive values of the sorted HP attribute.  You are not required to exclude provably suboptimal questions like we did in the lecture."
   ]
  },
  {
   "cell_type": "code",
   "execution_count": 12,
   "metadata": {
    "tags": []
   },
   "outputs": [
    {
     "data": {
      "text/html": [
       "<div>\n",
       "<style scoped>\n",
       "    .dataframe tbody tr th:only-of-type {\n",
       "        vertical-align: middle;\n",
       "    }\n",
       "\n",
       "    .dataframe tbody tr th {\n",
       "        vertical-align: top;\n",
       "    }\n",
       "\n",
       "    .dataframe thead th {\n",
       "        text-align: right;\n",
       "    }\n",
       "</style>\n",
       "<table border=\"1\" class=\"dataframe\">\n",
       "  <thead>\n",
       "    <tr style=\"text-align: right;\">\n",
       "      <th></th>\n",
       "      <th>MPG</th>\n",
       "      <th>cylinders</th>\n",
       "      <th>HP</th>\n",
       "      <th>weight</th>\n",
       "      <th>midpoints</th>\n",
       "    </tr>\n",
       "  </thead>\n",
       "  <tbody>\n",
       "    <tr>\n",
       "      <th>15</th>\n",
       "      <td>good</td>\n",
       "      <td>4</td>\n",
       "      <td>65</td>\n",
       "      <td>light</td>\n",
       "      <td>NaN</td>\n",
       "    </tr>\n",
       "    <tr>\n",
       "      <th>0</th>\n",
       "      <td>good</td>\n",
       "      <td>4</td>\n",
       "      <td>75</td>\n",
       "      <td>light</td>\n",
       "      <td>70.0</td>\n",
       "    </tr>\n",
       "    <tr>\n",
       "      <th>17</th>\n",
       "      <td>good</td>\n",
       "      <td>4</td>\n",
       "      <td>81</td>\n",
       "      <td>light</td>\n",
       "      <td>78.0</td>\n",
       "    </tr>\n",
       "    <tr>\n",
       "      <th>16</th>\n",
       "      <td>bad</td>\n",
       "      <td>6</td>\n",
       "      <td>85</td>\n",
       "      <td>medium</td>\n",
       "      <td>83.0</td>\n",
       "    </tr>\n",
       "    <tr>\n",
       "      <th>14</th>\n",
       "      <td>good</td>\n",
       "      <td>4</td>\n",
       "      <td>89</td>\n",
       "      <td>medium</td>\n",
       "      <td>87.0</td>\n",
       "    </tr>\n",
       "  </tbody>\n",
       "</table>\n",
       "</div>"
      ],
      "text/plain": [
       "     MPG  cylinders  HP  weight  midpoints\n",
       "15  good          4  65   light        NaN\n",
       "0   good          4  75   light       70.0\n",
       "17  good          4  81   light       78.0\n",
       "16   bad          6  85  medium       83.0\n",
       "14  good          4  89  medium       87.0"
      ]
     },
     "execution_count": 12,
     "metadata": {},
     "output_type": "execute_result"
    }
   ],
   "source": [
    "# sort\n",
    "HP=df.sort_values(by='HP')\n",
    "# find the midpoints\n",
    "midpoints = (HP['HP'].shift(1) + HP['HP'].shift(0)) / 2\n",
    "HP['midpoints'] = midpoints\n",
    "HP.head()"
   ]
  },
  {
   "cell_type": "code",
   "execution_count": 13,
   "metadata": {
    "tags": []
   },
   "outputs": [
    {
     "data": {
      "text/html": [
       "<div>\n",
       "<style scoped>\n",
       "    .dataframe tbody tr th:only-of-type {\n",
       "        vertical-align: middle;\n",
       "    }\n",
       "\n",
       "    .dataframe tbody tr th {\n",
       "        vertical-align: top;\n",
       "    }\n",
       "\n",
       "    .dataframe thead th {\n",
       "        text-align: right;\n",
       "    }\n",
       "</style>\n",
       "<table border=\"1\" class=\"dataframe\">\n",
       "  <thead>\n",
       "    <tr style=\"text-align: right;\">\n",
       "      <th></th>\n",
       "      <th>MPG</th>\n",
       "      <th>cylinders</th>\n",
       "      <th>HP</th>\n",
       "      <th>weight</th>\n",
       "      <th>midpoints</th>\n",
       "      <th>IG</th>\n",
       "    </tr>\n",
       "  </thead>\n",
       "  <tbody>\n",
       "    <tr>\n",
       "      <th>15</th>\n",
       "      <td>good</td>\n",
       "      <td>4</td>\n",
       "      <td>65</td>\n",
       "      <td>light</td>\n",
       "      <td>NaN</td>\n",
       "      <td>0.000000</td>\n",
       "    </tr>\n",
       "    <tr>\n",
       "      <th>0</th>\n",
       "      <td>good</td>\n",
       "      <td>4</td>\n",
       "      <td>75</td>\n",
       "      <td>light</td>\n",
       "      <td>70.0</td>\n",
       "      <td>0.091390</td>\n",
       "    </tr>\n",
       "    <tr>\n",
       "      <th>17</th>\n",
       "      <td>good</td>\n",
       "      <td>4</td>\n",
       "      <td>81</td>\n",
       "      <td>light</td>\n",
       "      <td>78.0</td>\n",
       "      <td>0.193507</td>\n",
       "    </tr>\n",
       "    <tr>\n",
       "      <th>16</th>\n",
       "      <td>bad</td>\n",
       "      <td>6</td>\n",
       "      <td>85</td>\n",
       "      <td>medium</td>\n",
       "      <td>83.0</td>\n",
       "      <td>0.309840</td>\n",
       "    </tr>\n",
       "    <tr>\n",
       "      <th>14</th>\n",
       "      <td>good</td>\n",
       "      <td>4</td>\n",
       "      <td>89</td>\n",
       "      <td>medium</td>\n",
       "      <td>87.0</td>\n",
       "      <td>0.162065</td>\n",
       "    </tr>\n",
       "  </tbody>\n",
       "</table>\n",
       "</div>"
      ],
      "text/plain": [
       "     MPG  cylinders  HP  weight  midpoints        IG\n",
       "15  good          4  65   light        NaN  0.000000\n",
       "0   good          4  75   light       70.0  0.091390\n",
       "17  good          4  81   light       78.0  0.193507\n",
       "16   bad          6  85  medium       83.0  0.309840\n",
       "14  good          4  89  medium       87.0  0.162065"
      ]
     },
     "execution_count": 13,
     "metadata": {},
     "output_type": "execute_result"
    }
   ],
   "source": [
    "# compute the information gain\n",
    "HP['IG'] = 0\n",
    "\n",
    "for i in HP['midpoints']:\n",
    "    goodHP_Y = (good['HP'] <= i).sum()\n",
    "    goodHP_N = (good['HP'] > i).sum()\n",
    "    badHP_Y = (bad['HP'] <= i).sum()\n",
    "    badHP_N = (bad['HP'] > i).sum()\n",
    "    IG = InformationGain(goodHP_Y, badHP_Y, goodHP_N, badHP_N)\n",
    "    HP.loc[HP['midpoints'] == i, 'IG'] = IG\n",
    "HP.head()"
   ]
  },
  {
   "cell_type": "code",
   "execution_count": 14,
   "metadata": {
    "tags": []
   },
   "outputs": [
    {
     "name": "stdout",
     "output_type": "stream",
     "text": [
      "The max information gain is 0.5567796494470395\n",
      "The situable split is 93.5\n"
     ]
    }
   ],
   "source": [
    "max_IG= HP['IG'].max()\n",
    "max_IG_index = HP['IG'].idxmax() \n",
    "right_split = HP.loc[max_IG_index, 'midpoints']\n",
    "print(\"The max information gain is \"+ str(max_IG))\n",
    "print(\"The situable split is \" + str(right_split))"
   ]
  },
  {
   "cell_type": "code",
   "execution_count": 15,
   "metadata": {
    "tags": []
   },
   "outputs": [
    {
     "name": "stdout",
     "output_type": "stream",
     "text": [
      "The number of 'good' MPG vehicles whose HP <= 93.5 is : 6\n",
      "The number of 'good' MPG vehicles whose HP > 93.5 is : 0\n",
      "The number of 'bad' MPG vehicles whose HP <= 93.5 is : 2\n",
      "The number of 'bad' MPG vehicles whose HP <= 93.5 is : 12\n"
     ]
    },
    {
     "data": {
      "text/plain": [
       "0.5567796494470395"
      ]
     },
     "execution_count": 15,
     "metadata": {},
     "output_type": "execute_result"
    }
   ],
   "source": [
    "# HP\n",
    "goodY = good['HP'].value_counts().loc[lambda x: x.index <= 93.5].sum()\n",
    "goodN = good['HP'].value_counts().loc[lambda x: x.index > 93.5].sum()\n",
    "badY = bad['HP'].value_counts().loc[lambda x: x.index <= 93.5].sum()\n",
    "badN = bad['HP'].value_counts().loc[lambda x: x.index > 93.5].sum()\n",
    "print(\"The number of 'good' MPG vehicles whose HP <= 93.5 is : \" + str(goodY))\n",
    "print(\"The number of 'good' MPG vehicles whose HP > 93.5 is : \" + str(goodN))\n",
    "print(\"The number of 'bad' MPG vehicles whose HP <= 93.5 is : \" + str(badY))\n",
    "print(\"The number of 'bad' MPG vehicles whose HP <= 93.5 is : \" + str(badN))\n",
    "\n",
    "InformationGain(goodY,badY,goodN,badN)"
   ]
  },
  {
   "cell_type": "markdown",
   "metadata": {},
   "source": [
    "d) Based on your results for parts b and c, what is the optimal binary split of the data?  Of the two child nodes created by this split, which (if any) would require further partitioning? (4%)"
   ]
  },
  {
   "cell_type": "markdown",
   "metadata": {},
   "source": [
    "##### Answer:\n",
    "I think \"HP >= 93.5\" is the optimal binary because it gives us the max information gain.\n",
    "\n",
    "The split \"HP>=93.5\" creates \"Bad\" and 'Good or bad\" child nodes, the \"Good or bad\" child node requires futher partitioning.\n",
    "\n",
    "It is because when HP>=93.5, the MPG vehicles are definite bad. When HP <93.5, there are both good and bad vehicles.\n",
    "\n",
    "———————————————————————————————————————————————————————————————————————————————————————————————————————————————————————————————"
   ]
  },
  {
   "cell_type": "markdown",
   "metadata": {},
   "source": [
    "e) Repeat parts a through d until all training data points are perfectly classified by the resulting tree. (6%)"
   ]
  },
  {
   "cell_type": "code",
   "execution_count": 16,
   "metadata": {},
   "outputs": [
    {
     "data": {
      "text/plain": [
       "MPG\n",
       "bad    12\n",
       "Name: count, dtype: int64"
      ]
     },
     "execution_count": 16,
     "metadata": {},
     "output_type": "execute_result"
    }
   ],
   "source": [
    "# see the siutation of the child node\n",
    "# HP>=93.5\n",
    "HP_BIG=df[df['HP']>=93.5]\n",
    "HP_BIG['MPG'].value_counts()\n",
    "# from the result, we can see that when HP>=93.5, we don't need to splite this child node anymore."
   ]
  },
  {
   "cell_type": "code",
   "execution_count": 17,
   "metadata": {},
   "outputs": [
    {
     "data": {
      "text/html": [
       "<div>\n",
       "<style scoped>\n",
       "    .dataframe tbody tr th:only-of-type {\n",
       "        vertical-align: middle;\n",
       "    }\n",
       "\n",
       "    .dataframe tbody tr th {\n",
       "        vertical-align: top;\n",
       "    }\n",
       "\n",
       "    .dataframe thead th {\n",
       "        text-align: right;\n",
       "    }\n",
       "</style>\n",
       "<table border=\"1\" class=\"dataframe\">\n",
       "  <thead>\n",
       "    <tr style=\"text-align: right;\">\n",
       "      <th></th>\n",
       "      <th>MPG</th>\n",
       "      <th>cylinders</th>\n",
       "      <th>HP</th>\n",
       "      <th>weight</th>\n",
       "    </tr>\n",
       "  </thead>\n",
       "  <tbody>\n",
       "    <tr>\n",
       "      <th>0</th>\n",
       "      <td>good</td>\n",
       "      <td>4</td>\n",
       "      <td>75</td>\n",
       "      <td>light</td>\n",
       "    </tr>\n",
       "    <tr>\n",
       "      <th>1</th>\n",
       "      <td>bad</td>\n",
       "      <td>6</td>\n",
       "      <td>90</td>\n",
       "      <td>medium</td>\n",
       "    </tr>\n",
       "    <tr>\n",
       "      <th>11</th>\n",
       "      <td>good</td>\n",
       "      <td>4</td>\n",
       "      <td>92</td>\n",
       "      <td>medium</td>\n",
       "    </tr>\n",
       "    <tr>\n",
       "      <th>14</th>\n",
       "      <td>good</td>\n",
       "      <td>4</td>\n",
       "      <td>89</td>\n",
       "      <td>medium</td>\n",
       "    </tr>\n",
       "    <tr>\n",
       "      <th>15</th>\n",
       "      <td>good</td>\n",
       "      <td>4</td>\n",
       "      <td>65</td>\n",
       "      <td>light</td>\n",
       "    </tr>\n",
       "    <tr>\n",
       "      <th>16</th>\n",
       "      <td>bad</td>\n",
       "      <td>6</td>\n",
       "      <td>85</td>\n",
       "      <td>medium</td>\n",
       "    </tr>\n",
       "    <tr>\n",
       "      <th>17</th>\n",
       "      <td>good</td>\n",
       "      <td>4</td>\n",
       "      <td>81</td>\n",
       "      <td>light</td>\n",
       "    </tr>\n",
       "    <tr>\n",
       "      <th>19</th>\n",
       "      <td>good</td>\n",
       "      <td>4</td>\n",
       "      <td>93</td>\n",
       "      <td>light</td>\n",
       "    </tr>\n",
       "  </tbody>\n",
       "</table>\n",
       "</div>"
      ],
      "text/plain": [
       "     MPG  cylinders  HP  weight\n",
       "0   good          4  75   light\n",
       "1    bad          6  90  medium\n",
       "11  good          4  92  medium\n",
       "14  good          4  89  medium\n",
       "15  good          4  65   light\n",
       "16   bad          6  85  medium\n",
       "17  good          4  81   light\n",
       "19  good          4  93   light"
      ]
     },
     "execution_count": 17,
     "metadata": {},
     "output_type": "execute_result"
    }
   ],
   "source": [
    "HP_small=df[df['HP']<93.5]\n",
    "HP_small\n",
    "# From the result, we can see that we still need to classify the child node"
   ]
  },
  {
   "cell_type": "code",
   "execution_count": 18,
   "metadata": {
    "tags": []
   },
   "outputs": [],
   "source": [
    "good_HP_S=HP_small[HP_small['MPG']=='good']\n",
    "bad_HP_S=HP_small[HP_small['MPG']=='bad']"
   ]
  },
  {
   "cell_type": "code",
   "execution_count": 19,
   "metadata": {},
   "outputs": [
    {
     "name": "stdout",
     "output_type": "stream",
     "text": [
      "cylinders\n",
      "4    6\n",
      "6    2\n",
      "Name: count, dtype: int64\n",
      "weight\n",
      "light     4\n",
      "medium    4\n",
      "Name: count, dtype: int64\n"
     ]
    }
   ],
   "source": [
    "# There are seversal different ways, let's try them one by one.\n",
    "print(HP_small['cylinders'].value_counts())\n",
    "print(HP_small['weight'].value_counts())"
   ]
  },
  {
   "cell_type": "code",
   "execution_count": 20,
   "metadata": {},
   "outputs": [
    {
     "name": "stdout",
     "output_type": "stream",
     "text": [
      "when split is cylinders = 4, InformationGain = 0.8112781244591328\n",
      "when split is cylinders = 6, InformationGain = 0.8112781244591328\n"
     ]
    }
   ],
   "source": [
    "# cylinders\n",
    "cylinders=(4,6)\n",
    "for i in cylinders:\n",
    "    if i in good_HP_S['cylinders'].value_counts():\n",
    "        goodY = int(good_HP_S['cylinders'].value_counts()[i])\n",
    "    else:\n",
    "            goodY = 0\n",
    "    goodN=int(good_HP_S['cylinders'].value_counts().sum()) - int(goodY)\n",
    "    \n",
    "    if i in bad_HP_S['cylinders'].value_counts():\n",
    "        badY = int(bad_HP_S['cylinders'].value_counts()[i])\n",
    "    else:\n",
    "        badY = 0\n",
    "    badN=int(bad_HP_S['cylinders'].value_counts().sum()) - int(badY)\n",
    "    IG_C=InformationGain(goodY,badY,goodN,badN)\n",
    "    print(\"when split is cylinders = {}, InformationGain = {}\" .format(i,IG_C))"
   ]
  },
  {
   "cell_type": "code",
   "execution_count": 21,
   "metadata": {
    "tags": []
   },
   "outputs": [
    {
     "name": "stdout",
     "output_type": "stream",
     "text": [
      "when split is weight = light, InformationGain = 0.31127812445913283\n",
      "when split is weight = medium, InformationGain = 0.31127812445913283\n"
     ]
    }
   ],
   "source": [
    "# weight\n",
    "weight = (\"light\", \"medium\")\n",
    "for i in weight:\n",
    "    goodY=0\n",
    "    goodN=0\n",
    "    badY=0\n",
    "    badN=0\n",
    "\n",
    "    for w in good_HP_S['weight']:\n",
    "        if w == i:\n",
    "            goodY += 1\n",
    "        else:\n",
    "            goodN += 1\n",
    "        \n",
    "    for w in bad_HP_S['weight']:\n",
    "        if w == i:\n",
    "            badY += 1\n",
    "        else:\n",
    "            badN += 1\n",
    "    \n",
    "    IG = InformationGain(goodY, badY, goodN, badN)\n",
    "    print(\"when split is weight = {}, InformationGain = {}\".format(i, IG))"
   ]
  },
  {
   "cell_type": "code",
   "execution_count": 22,
   "metadata": {},
   "outputs": [
    {
     "data": {
      "text/html": [
       "<div>\n",
       "<style scoped>\n",
       "    .dataframe tbody tr th:only-of-type {\n",
       "        vertical-align: middle;\n",
       "    }\n",
       "\n",
       "    .dataframe tbody tr th {\n",
       "        vertical-align: top;\n",
       "    }\n",
       "\n",
       "    .dataframe thead th {\n",
       "        text-align: right;\n",
       "    }\n",
       "</style>\n",
       "<table border=\"1\" class=\"dataframe\">\n",
       "  <thead>\n",
       "    <tr style=\"text-align: right;\">\n",
       "      <th></th>\n",
       "      <th>MPG</th>\n",
       "      <th>cylinders</th>\n",
       "      <th>HP</th>\n",
       "      <th>weight</th>\n",
       "      <th>midpoints</th>\n",
       "    </tr>\n",
       "  </thead>\n",
       "  <tbody>\n",
       "    <tr>\n",
       "      <th>15</th>\n",
       "      <td>good</td>\n",
       "      <td>4</td>\n",
       "      <td>65</td>\n",
       "      <td>light</td>\n",
       "      <td>NaN</td>\n",
       "    </tr>\n",
       "    <tr>\n",
       "      <th>0</th>\n",
       "      <td>good</td>\n",
       "      <td>4</td>\n",
       "      <td>75</td>\n",
       "      <td>light</td>\n",
       "      <td>70.0</td>\n",
       "    </tr>\n",
       "    <tr>\n",
       "      <th>17</th>\n",
       "      <td>good</td>\n",
       "      <td>4</td>\n",
       "      <td>81</td>\n",
       "      <td>light</td>\n",
       "      <td>78.0</td>\n",
       "    </tr>\n",
       "    <tr>\n",
       "      <th>16</th>\n",
       "      <td>bad</td>\n",
       "      <td>6</td>\n",
       "      <td>85</td>\n",
       "      <td>medium</td>\n",
       "      <td>83.0</td>\n",
       "    </tr>\n",
       "    <tr>\n",
       "      <th>14</th>\n",
       "      <td>good</td>\n",
       "      <td>4</td>\n",
       "      <td>89</td>\n",
       "      <td>medium</td>\n",
       "      <td>87.0</td>\n",
       "    </tr>\n",
       "  </tbody>\n",
       "</table>\n",
       "</div>"
      ],
      "text/plain": [
       "     MPG  cylinders  HP  weight  midpoints\n",
       "15  good          4  65   light        NaN\n",
       "0   good          4  75   light       70.0\n",
       "17  good          4  81   light       78.0\n",
       "16   bad          6  85  medium       83.0\n",
       "14  good          4  89  medium       87.0"
      ]
     },
     "execution_count": 22,
     "metadata": {},
     "output_type": "execute_result"
    }
   ],
   "source": [
    "# HP\n",
    "HP1=HP_small.sort_values(by='HP')\n",
    "# find the midpoints\n",
    "midpoints1 = (HP1['HP'].shift(1) + HP1['HP'].shift(0)) / 2\n",
    "HP1['midpoints'] = midpoints1\n",
    "HP1.head()"
   ]
  },
  {
   "cell_type": "code",
   "execution_count": 23,
   "metadata": {},
   "outputs": [
    {
     "data": {
      "text/html": [
       "<div>\n",
       "<style scoped>\n",
       "    .dataframe tbody tr th:only-of-type {\n",
       "        vertical-align: middle;\n",
       "    }\n",
       "\n",
       "    .dataframe tbody tr th {\n",
       "        vertical-align: top;\n",
       "    }\n",
       "\n",
       "    .dataframe thead th {\n",
       "        text-align: right;\n",
       "    }\n",
       "</style>\n",
       "<table border=\"1\" class=\"dataframe\">\n",
       "  <thead>\n",
       "    <tr style=\"text-align: right;\">\n",
       "      <th></th>\n",
       "      <th>MPG</th>\n",
       "      <th>cylinders</th>\n",
       "      <th>HP</th>\n",
       "      <th>weight</th>\n",
       "      <th>midpoints</th>\n",
       "      <th>IG</th>\n",
       "    </tr>\n",
       "  </thead>\n",
       "  <tbody>\n",
       "    <tr>\n",
       "      <th>15</th>\n",
       "      <td>good</td>\n",
       "      <td>4</td>\n",
       "      <td>65</td>\n",
       "      <td>light</td>\n",
       "      <td>NaN</td>\n",
       "      <td>0.000000</td>\n",
       "    </tr>\n",
       "    <tr>\n",
       "      <th>0</th>\n",
       "      <td>good</td>\n",
       "      <td>4</td>\n",
       "      <td>75</td>\n",
       "      <td>light</td>\n",
       "      <td>70.0</td>\n",
       "      <td>0.056048</td>\n",
       "    </tr>\n",
       "    <tr>\n",
       "      <th>17</th>\n",
       "      <td>good</td>\n",
       "      <td>4</td>\n",
       "      <td>81</td>\n",
       "      <td>light</td>\n",
       "      <td>78.0</td>\n",
       "      <td>0.122556</td>\n",
       "    </tr>\n",
       "    <tr>\n",
       "      <th>16</th>\n",
       "      <td>bad</td>\n",
       "      <td>6</td>\n",
       "      <td>85</td>\n",
       "      <td>medium</td>\n",
       "      <td>83.0</td>\n",
       "      <td>0.204434</td>\n",
       "    </tr>\n",
       "    <tr>\n",
       "      <th>14</th>\n",
       "      <td>good</td>\n",
       "      <td>4</td>\n",
       "      <td>89</td>\n",
       "      <td>medium</td>\n",
       "      <td>87.0</td>\n",
       "      <td>0.000000</td>\n",
       "    </tr>\n",
       "  </tbody>\n",
       "</table>\n",
       "</div>"
      ],
      "text/plain": [
       "     MPG  cylinders  HP  weight  midpoints        IG\n",
       "15  good          4  65   light        NaN  0.000000\n",
       "0   good          4  75   light       70.0  0.056048\n",
       "17  good          4  81   light       78.0  0.122556\n",
       "16   bad          6  85  medium       83.0  0.204434\n",
       "14  good          4  89  medium       87.0  0.000000"
      ]
     },
     "execution_count": 23,
     "metadata": {},
     "output_type": "execute_result"
    }
   ],
   "source": [
    "# compute the information gain\n",
    "HP1['IG'] = 0\n",
    "\n",
    "for i in HP1['midpoints']:\n",
    "    goodHP_Y = (good_HP_S['HP'] <= i).sum()\n",
    "    goodHP_N = (good_HP_S['HP'] > i).sum()\n",
    "    badHP_Y = (bad_HP_S['HP'] <= i).sum()\n",
    "    badHP_N = (bad_HP_S['HP'] > i).sum()\n",
    "    IG = InformationGain(goodHP_Y, badHP_Y, goodHP_N, badHP_N)\n",
    "    HP1.loc[HP1['midpoints'] == i, 'IG'] = IG\n",
    "HP1.head()"
   ]
  },
  {
   "cell_type": "code",
   "execution_count": 24,
   "metadata": {
    "tags": []
   },
   "outputs": [
    {
     "name": "stdout",
     "output_type": "stream",
     "text": [
      "The max information gain is 0.20443400292496483\n",
      "The situable split is 83.0\n"
     ]
    }
   ],
   "source": [
    "max_IG1= HP1['IG'].max()\n",
    "max_IG_index1 = HP1['IG'].idxmax() \n",
    "right_split1 = HP1.loc[max_IG_index1, 'midpoints']\n",
    "print(\"The max information gain is \"+ str(max_IG1))\n",
    "print(\"The situable split is \" + str(right_split1))"
   ]
  },
  {
   "cell_type": "code",
   "execution_count": 25,
   "metadata": {
    "tags": []
   },
   "outputs": [
    {
     "data": {
      "text/html": [
       "<div>\n",
       "<style scoped>\n",
       "    .dataframe tbody tr th:only-of-type {\n",
       "        vertical-align: middle;\n",
       "    }\n",
       "\n",
       "    .dataframe tbody tr th {\n",
       "        vertical-align: top;\n",
       "    }\n",
       "\n",
       "    .dataframe thead th {\n",
       "        text-align: right;\n",
       "    }\n",
       "</style>\n",
       "<table border=\"1\" class=\"dataframe\">\n",
       "  <thead>\n",
       "    <tr style=\"text-align: right;\">\n",
       "      <th></th>\n",
       "      <th>MPG</th>\n",
       "      <th>cylinders</th>\n",
       "      <th>HP</th>\n",
       "      <th>weight</th>\n",
       "    </tr>\n",
       "  </thead>\n",
       "  <tbody>\n",
       "    <tr>\n",
       "      <th>0</th>\n",
       "      <td>good</td>\n",
       "      <td>4</td>\n",
       "      <td>75</td>\n",
       "      <td>light</td>\n",
       "    </tr>\n",
       "    <tr>\n",
       "      <th>11</th>\n",
       "      <td>good</td>\n",
       "      <td>4</td>\n",
       "      <td>92</td>\n",
       "      <td>medium</td>\n",
       "    </tr>\n",
       "    <tr>\n",
       "      <th>14</th>\n",
       "      <td>good</td>\n",
       "      <td>4</td>\n",
       "      <td>89</td>\n",
       "      <td>medium</td>\n",
       "    </tr>\n",
       "    <tr>\n",
       "      <th>15</th>\n",
       "      <td>good</td>\n",
       "      <td>4</td>\n",
       "      <td>65</td>\n",
       "      <td>light</td>\n",
       "    </tr>\n",
       "    <tr>\n",
       "      <th>17</th>\n",
       "      <td>good</td>\n",
       "      <td>4</td>\n",
       "      <td>81</td>\n",
       "      <td>light</td>\n",
       "    </tr>\n",
       "    <tr>\n",
       "      <th>19</th>\n",
       "      <td>good</td>\n",
       "      <td>4</td>\n",
       "      <td>93</td>\n",
       "      <td>light</td>\n",
       "    </tr>\n",
       "  </tbody>\n",
       "</table>\n",
       "</div>"
      ],
      "text/plain": [
       "     MPG  cylinders  HP  weight\n",
       "0   good          4  75   light\n",
       "11  good          4  92  medium\n",
       "14  good          4  89  medium\n",
       "15  good          4  65   light\n",
       "17  good          4  81   light\n",
       "19  good          4  93   light"
      ]
     },
     "execution_count": 25,
     "metadata": {},
     "output_type": "execute_result"
    }
   ],
   "source": [
    "# According to the Information Gain, I choose \"cylinders = 4\" as the split.\n",
    "# Check if need more child node\n",
    "HP_small_C4=HP_small[HP_small['cylinders']==4]\n",
    "HP_small_C4"
   ]
  },
  {
   "cell_type": "code",
   "execution_count": 26,
   "metadata": {
    "tags": []
   },
   "outputs": [
    {
     "data": {
      "text/html": [
       "<div>\n",
       "<style scoped>\n",
       "    .dataframe tbody tr th:only-of-type {\n",
       "        vertical-align: middle;\n",
       "    }\n",
       "\n",
       "    .dataframe tbody tr th {\n",
       "        vertical-align: top;\n",
       "    }\n",
       "\n",
       "    .dataframe thead th {\n",
       "        text-align: right;\n",
       "    }\n",
       "</style>\n",
       "<table border=\"1\" class=\"dataframe\">\n",
       "  <thead>\n",
       "    <tr style=\"text-align: right;\">\n",
       "      <th></th>\n",
       "      <th>MPG</th>\n",
       "      <th>cylinders</th>\n",
       "      <th>HP</th>\n",
       "      <th>weight</th>\n",
       "    </tr>\n",
       "  </thead>\n",
       "  <tbody>\n",
       "    <tr>\n",
       "      <th>1</th>\n",
       "      <td>bad</td>\n",
       "      <td>6</td>\n",
       "      <td>90</td>\n",
       "      <td>medium</td>\n",
       "    </tr>\n",
       "    <tr>\n",
       "      <th>16</th>\n",
       "      <td>bad</td>\n",
       "      <td>6</td>\n",
       "      <td>85</td>\n",
       "      <td>medium</td>\n",
       "    </tr>\n",
       "  </tbody>\n",
       "</table>\n",
       "</div>"
      ],
      "text/plain": [
       "    MPG  cylinders  HP  weight\n",
       "1   bad          6  90  medium\n",
       "16  bad          6  85  medium"
      ]
     },
     "execution_count": 26,
     "metadata": {},
     "output_type": "execute_result"
    }
   ],
   "source": [
    "HP_small_not_C4=HP_small[HP_small['cylinders']!=4]\n",
    "HP_small_not_C4"
   ]
  },
  {
   "cell_type": "code",
   "execution_count": 27,
   "metadata": {
    "tags": []
   },
   "outputs": [],
   "source": [
    "#As we can see, HP>=93.5 and cylinders==4 is situable split. we don't need more child node."
   ]
  },
  {
   "cell_type": "markdown",
   "metadata": {},
   "source": [
    "f) Draw or show the final decision tree in a format of your choice.  The decision to make at each step and the predicted value at each leaf node must be clear. (4%)"
   ]
  },
  {
   "cell_type": "code",
   "execution_count": 28,
   "metadata": {
    "tags": []
   },
   "outputs": [
    {
     "data": {
      "image/png": "[encoded data removed]",
      "text/plain": [
       "<Figure size 640x480 with 1 Axes>"
      ]
     },
     "metadata": {},
     "output_type": "display_data"
    }
   ],
   "source": [
    "nodes = [(0.5, 1, 'class_name = mix\\nfeature:HP>=93.5\\npredicted value[8,12]'), \n",
    "         (0.3, 0.7, 'class_name = mix\\nnature:False\\npredicted value[6,2]\\nfeature:cylinders==4'), \n",
    "         (0.7, 0.7, 'class_name = bad\\nnature:True\\npredicted value[0,12]'), \n",
    "         (0.2, 0.4, 'class_name = bad\\nnature:False\\npredicted value[0,2]'), \n",
    "         (0.4, 0.4, 'class_name = good\\nnature:True\\npredicted value[6,0]')]\n",
    "\n",
    "edges = [((0.5, 1), (0.3, 0.7)), \n",
    "         ((0.5, 1), (0.7, 0.7)),\n",
    "         ((0.3, 0.7), (0.2, 0.4)),\n",
    "         ((0.3, 0.7), (0.4, 0.4)),]\n",
    "\n",
    "for x, y, text in nodes:\n",
    "    plt.text(x, y, text, ha='center', va='center', bbox=dict(facecolor='white', edgecolor='black', boxstyle='round,pad=0.3'))\n",
    "    \n",
    "for (x1, y1), (x2, y2) in edges:\n",
    "    plt.plot([x1, x2], [y1, y2], 'k-')\n",
    "\n",
    "plt.axis('off')\n",
    "plt.show()"
   ]
  },
  {
   "cell_type": "markdown",
   "metadata": {},
   "source": [
    "g) Classify each of the following four vehicles as having \"good\" or \"bad\" fuel efficiency (miles per gallon).  Do this by hand using the tree structure learned in part f. (4%)\n",
    "\n",
    "MPG,cylinders,HP,weight\n",
    "\n",
    "???,4,93,light\n",
    "\n",
    "???,6,113,medium\n",
    "\n",
    "???,4,83,weighty\n",
    "\n",
    "???,6,70,weighty\n"
   ]
  },
  {
   "cell_type": "markdown",
   "metadata": {},
   "source": [
    "car1: HP<=93.5 ---->  cylinders==4.0 ----> good\n",
    "\n",
    "car2: HP>93.5  ----> bad\n",
    "\n",
    "car3: HP<=93.5 ---->  cylinders==4.0 ----> good\n",
    "\n",
    "car4: HP<=93.5 ---->  cylinders!=4.0 ----> bad"
   ]
  },
  {
   "cell_type": "markdown",
   "metadata": {},
   "source": [
    "### Question 3, Predicting burden of disease （40%)"
   ]
  },
  {
   "cell_type": "code",
   "execution_count": 29,
   "metadata": {},
   "outputs": [
    {
     "data": {
      "text/html": [
       "<div>\n",
       "<style scoped>\n",
       "    .dataframe tbody tr th:only-of-type {\n",
       "        vertical-align: middle;\n",
       "    }\n",
       "\n",
       "    .dataframe tbody tr th {\n",
       "        vertical-align: top;\n",
       "    }\n",
       "\n",
       "    .dataframe thead th {\n",
       "        text-align: right;\n",
       "    }\n",
       "</style>\n",
       "<table border=\"1\" class=\"dataframe\">\n",
       "  <thead>\n",
       "    <tr style=\"text-align: right;\">\n",
       "      <th></th>\n",
       "      <th>Country</th>\n",
       "      <th>FrxnPeaceIn10</th>\n",
       "      <th>ODA4H2OPcptaDol</th>\n",
       "      <th>RenewResm3PcptaYr</th>\n",
       "      <th>SustAccImprWatRur</th>\n",
       "      <th>SustAccImprWatUrb</th>\n",
       "      <th>SustAccImprSanRur</th>\n",
       "      <th>SustAccImprSanUrb</th>\n",
       "      <th>TotHlthExpPctofGDP</th>\n",
       "      <th>GenGovtPctofTotHlthExp</th>\n",
       "      <th>ExtResHlthPctTotExpHlth</th>\n",
       "      <th>PCptaGovtExpHlthAvgExcRt</th>\n",
       "      <th>GDPPCptaIntDol</th>\n",
       "      <th>AdultLtrcyRate</th>\n",
       "      <th>FemaleLtrcyRate</th>\n",
       "      <th>BurdenOfDisease</th>\n",
       "    </tr>\n",
       "  </thead>\n",
       "  <tbody>\n",
       "    <tr>\n",
       "      <th>0</th>\n",
       "      <td>Afghanistan</td>\n",
       "      <td>0.1</td>\n",
       "      <td>0.16</td>\n",
       "      <td>2986</td>\n",
       "      <td>0.10891</td>\n",
       "      <td>0.18812</td>\n",
       "      <td>0.049505</td>\n",
       "      <td>0.15842</td>\n",
       "      <td>0.065</td>\n",
       "      <td>0.395</td>\n",
       "      <td>0.4560</td>\n",
       "      <td>4</td>\n",
       "      <td>430</td>\n",
       "      <td>0.35644</td>\n",
       "      <td>0.20792</td>\n",
       "      <td>awful</td>\n",
       "    </tr>\n",
       "    <tr>\n",
       "      <th>1</th>\n",
       "      <td>Albania</td>\n",
       "      <td>1.0</td>\n",
       "      <td>5.58</td>\n",
       "      <td>13306</td>\n",
       "      <td>0.94059</td>\n",
       "      <td>0.98020</td>\n",
       "      <td>0.801980</td>\n",
       "      <td>0.98020</td>\n",
       "      <td>0.065</td>\n",
       "      <td>0.417</td>\n",
       "      <td>0.0340</td>\n",
       "      <td>49</td>\n",
       "      <td>6158</td>\n",
       "      <td>0.85644</td>\n",
       "      <td>0.78713</td>\n",
       "      <td>low</td>\n",
       "    </tr>\n",
       "    <tr>\n",
       "      <th>2</th>\n",
       "      <td>Algeria</td>\n",
       "      <td>0.0</td>\n",
       "      <td>0.33</td>\n",
       "      <td>473</td>\n",
       "      <td>0.79208</td>\n",
       "      <td>0.91089</td>\n",
       "      <td>0.811880</td>\n",
       "      <td>0.98020</td>\n",
       "      <td>0.041</td>\n",
       "      <td>0.808</td>\n",
       "      <td>0.0005</td>\n",
       "      <td>71</td>\n",
       "      <td>4860</td>\n",
       "      <td>0.69307</td>\n",
       "      <td>0.60396</td>\n",
       "      <td>high</td>\n",
       "    </tr>\n",
       "  </tbody>\n",
       "</table>\n",
       "</div>"
      ],
      "text/plain": [
       "       Country  FrxnPeaceIn10  ODA4H2OPcptaDol  RenewResm3PcptaYr  \\\n",
       "0  Afghanistan            0.1             0.16               2986   \n",
       "1      Albania            1.0             5.58              13306   \n",
       "2      Algeria            0.0             0.33                473   \n",
       "\n",
       "   SustAccImprWatRur  SustAccImprWatUrb  SustAccImprSanRur  SustAccImprSanUrb  \\\n",
       "0            0.10891            0.18812           0.049505            0.15842   \n",
       "1            0.94059            0.98020           0.801980            0.98020   \n",
       "2            0.79208            0.91089           0.811880            0.98020   \n",
       "\n",
       "   TotHlthExpPctofGDP  GenGovtPctofTotHlthExp  ExtResHlthPctTotExpHlth  \\\n",
       "0               0.065                   0.395                   0.4560   \n",
       "1               0.065                   0.417                   0.0340   \n",
       "2               0.041                   0.808                   0.0005   \n",
       "\n",
       "   PCptaGovtExpHlthAvgExcRt  GDPPCptaIntDol  AdultLtrcyRate  FemaleLtrcyRate  \\\n",
       "0                         4             430         0.35644          0.20792   \n",
       "1                        49            6158         0.85644          0.78713   \n",
       "2                        71            4860         0.69307          0.60396   \n",
       "\n",
       "  BurdenOfDisease  \n",
       "0           awful  \n",
       "1             low  \n",
       "2            high  "
      ]
     },
     "execution_count": 29,
     "metadata": {},
     "output_type": "execute_result"
    }
   ],
   "source": [
    "data=pd.read_csv(\"Burden of diarrheal illness by country.csv\")\n",
    "data.head(3)"
   ]
  },
  {
   "cell_type": "markdown",
   "metadata": {},
   "source": [
    "### Data dictionary\n",
    "\n",
    "NAME: Burden of diarrheal illness by country\n",
    "\n",
    "SIZE: 130 Countries, 16 Variables\n",
    "\n",
    "VARIABLE DESCRIPTIONS:\n",
    "\n",
    "Country: Country name\n",
    "\n",
    "FrxnPeaceIn10: Fraction of the past ten years in which a country has been at peace \n",
    "\n",
    "ODA4H2OPcptaDol: Per Capita Official Developmental Assistance for water projects\n",
    "\n",
    "RenewResm3PcptaYr: Renewable Water Resources in cubic meters per capita per year\n",
    "\n",
    "SustAccImprWatRur: Fraction of rural population with sustainable access to improved water\n",
    "\n",
    "SustAccImprWatUrb: Fraction of urban population with sustainable access to improved water\n",
    "\n",
    "SustAccImprSanRur: Fraction of rural population with sustainable access to improved sanitation\n",
    "\n",
    "SustAccImprSanUrb: Fraction of urban population with sustainable access to improved sanitation\n",
    "\n",
    "TotHlthExpPctofGDP: Fraction of a country's GDP devoted to health spending\n",
    "\n",
    "GenGovtPctofTotHlthExp: The fraction of total health expenditures for a country which is provided by the government\n",
    "\n",
    "ExtResHlthPctTotExpHlth: The fraction of total health expenditures for a country which is comes from sources external to the country\n",
    "\n",
    "PCptaGovtExpHlthAvgExcRt: Per Capita Government Health Expenditures at the average exchange rate\n",
    "\n",
    "GDPPCptaIntDol: Gross Domestic Product per capita in international dollars\n",
    "\n",
    "AdultLtrcyRate: Adult Literacy rate\n",
    "\n",
    "FemaleLtrcyRate: Female Literacy rate\n",
    "\n",
    "BurdenOfDisease: Our target variable for classification.  The burden of disease due to diarrheal illness, categorized into \"low\", \"medium\", \"high\", and \"awful\" quartiles.  For each country, we have estimates of the number of Disability-Adjusted Life Years lost per 1000 persons per year (DALYs) due to diarrheal illness.  Countries with \"low\" burden of disease have up to 2.75345 DALYs; countries with \"medium\" burden of disease have between 2.75345 and 8.2127 DALYs; countries with \"high\" burden of disease have between 8.2127 and 26.699 DALYs; and countries with \"awful\" burden of diease have more than 26.699 DALYs."
   ]
  },
  {
   "cell_type": "markdown",
   "metadata": {},
   "source": [
    "### Your goal is to train a decision tree classifier for the attribute “BurdenOfDisease\" using all other variables (except country name) as features with sklearn.tree.DecisionTreeClassifier. \n",
    "http://scikit-learn.org/stable/modules/generated/sklearn.tree.DecisionTreeClassifier.html"
   ]
  },
  {
   "cell_type": "markdown",
   "metadata": {},
   "source": [
    "a) Please choose a train/test split and choose a hyper-parameter governing model simplicity, for example, the maximum tree depth or maximum number of leaf nodes. Then, fit your decision tree classifier (using the training set) for different values of this parameter and for each such value, record the corresponding classification accuracy on the test set. (10%)"
   ]
  },
  {
   "cell_type": "code",
   "execution_count": 30,
   "metadata": {
    "tags": []
   },
   "outputs": [
    {
     "name": "stdout",
     "output_type": "stream",
     "text": [
      "    FrxnPeaceIn10  ODA4H2OPcptaDol  RenewResm3PcptaYr  SustAccImprWatRur  \\\n",
      "7             1.0             0.00                 66            0.85149   \n",
      "53            1.0             8.04             317000            0.82178   \n",
      "15            1.0             4.19               9345            0.89109   \n",
      "36            0.4             0.12              25183            0.28713   \n",
      "12            1.0             2.87              45564            0.59406   \n",
      "\n",
      "    SustAccImprWatUrb  SustAccImprSanRur  SustAccImprSanUrb  \\\n",
      "7             0.97030            0.99010            0.99010   \n",
      "53            0.82178            0.59406            0.85149   \n",
      "15            0.99010            0.24752            0.56436   \n",
      "36            0.82178            0.22772            0.42574   \n",
      "12            0.85149            0.69307            0.64356   \n",
      "\n",
      "    TotHlthExpPctofGDP  GenGovtPctofTotHlthExp  ExtResHlthPctTotExpHlth  \\\n",
      "7                0.064                   0.475                    0.002   \n",
      "53               0.048                   0.826                    0.032   \n",
      "15               0.056                   0.582                    0.029   \n",
      "36               0.040                   0.183                    0.151   \n",
      "12               0.031                   0.835                    0.186   \n",
      "\n",
      "    PCptaGovtExpHlthAvgExcRt  GDPPCptaIntDol  AdultLtrcyRate  FemaleLtrcyRate  \n",
      "7                        533           19930         0.94653          0.95545  \n",
      "53                        44            6198         0.97822          0.97525  \n",
      "15                       135            7344         0.79010          0.81584  \n",
      "36                         1             382         0.64851          0.54554  \n",
      "12                         9            2035         0.46535          0.33663  \n"
     ]
    }
   ],
   "source": [
    "from sklearn.model_selection import train_test_split\n",
    "# remove records with any missing values\n",
    "data=data.dropna()\n",
    "\n",
    "# Let's take \"found.weapon\" as the target variable. \n",
    "y=data.loc[:,\"BurdenOfDisease\"]\n",
    "\n",
    "# Get the feature space.  We are using only features from before the stop, getting rid of features from during/after the stop like \"arrested\".\n",
    "X=data.loc[:,\"FrxnPeaceIn10\":\"FemaleLtrcyRate\"]\n",
    "X=pd.get_dummies(X)\n",
    "\n",
    "# Split data into 70% train, 30% test\n",
    "X_train,X_test,y_train,y_test=train_test_split(X, y, test_size=0.3, random_state=999)\n",
    "print(X_train.head())"
   ]
  },
  {
   "cell_type": "code",
   "execution_count": 31,
   "metadata": {
    "tags": []
   },
   "outputs": [
    {
     "name": "stdout",
     "output_type": "stream",
     "text": [
      "In sample accuracy: 1.0\n",
      "Out of sample accuracy: 0.6410256410256411\n"
     ]
    }
   ],
   "source": [
    "from sklearn.tree import DecisionTreeClassifier\n",
    "\n",
    "# learn model\n",
    "dt=DecisionTreeClassifier()\n",
    "dt.fit(X_train,y_train)\n",
    "\n",
    "# in sample accuracy\n",
    "print('In sample accuracy:',dt.score(X_train,y_train))\n",
    "\n",
    "# out of sample accuracy\n",
    "print('Out of sample accuracy:',dt.score(X_test,y_test))"
   ]
  },
  {
   "cell_type": "code",
   "execution_count": 32,
   "metadata": {},
   "outputs": [
    {
     "name": "stdout",
     "output_type": "stream",
     "text": [
      "0.6185470085470086\n"
     ]
    }
   ],
   "source": [
    "# your code here\n",
    "OS=[]\n",
    "for i in range(300):\n",
    "    X_train, X_test, y_train, y_test = train_test_split(X, y, test_size = 0.3, random_state = i)    \n",
    "    dt = DecisionTreeClassifier()\n",
    "    dt.fit(X_train,y_train)\n",
    "    OS.append(dt.score(X_test,y_test))\n",
    "print(np.mean(OS))"
   ]
  },
  {
   "cell_type": "code",
   "execution_count": 33,
   "metadata": {
    "tags": []
   },
   "outputs": [
    {
     "data": {
      "text/plain": [
       "[0.7196544578853047,\n",
       " 0.7506184395801332,\n",
       " 0.7726422491039426,\n",
       " 0.7702756976446492,\n",
       " 0.752228542626728,\n",
       " 0.7701496895801332,\n",
       " 0.7704101062467998,\n",
       " 0.7701496895801332,\n",
       " 0.7328233006912442,\n",
       " 0.7506184395801332,\n",
       " 0.7704101062467998,\n",
       " 0.7523545506912442,\n",
       " 0.7702756976446492,\n",
       " 0.7727682571684589,\n",
       " 0.7506184395801332,\n",
       " 0.7507444476446492,\n",
       " 0.7523545506912442,\n",
       " 0.7701496895801332,\n",
       " 0.7507528481822836,\n",
       " 0.7726422491039426]"
      ]
     },
     "execution_count": 33,
     "metadata": {},
     "output_type": "execute_result"
    }
   ],
   "source": [
    "# Let's just use a single train/test split for this part:\n",
    "X_train,X_test,y_train,y_test=train_test_split(X, y, test_size=0.3,random_state=999)\n",
    "AUC_OS=[]\n",
    "for i in range(2,500,25):\n",
    "    dt=DecisionTreeClassifier(max_leaf_nodes=i)\n",
    "    dt.fit(X_train,y_train)\n",
    "    pred = dt.predict_proba(X_test)\n",
    "    AUC_OS.append(roc_auc_score(np.array(y_test), pred, multi_class='ovr'))\n",
    "AUC_OS"
   ]
  },
  {
   "cell_type": "markdown",
   "metadata": {},
   "source": [
    "b) Make a plot of accuracy vs. simplicity for different values of the hyper-parameter chosen in part a). That is, the x-axis should be hyper-parameter value (e.g. tree depth) and the y-axis should be accuracy. (10%)"
   ]
  },
  {
   "cell_type": "code",
   "execution_count": 34,
   "metadata": {},
   "outputs": [
    {
     "data": {
      "image/png": "[encoded data removed]",
      "text/plain": [
       "<Figure size 700x500 with 1 Axes>"
      ]
     },
     "metadata": {},
     "output_type": "display_data"
    }
   ],
   "source": [
    "import matplotlib.pylab as plt\n",
    "plt.figure(figsize=(7,5))\n",
    "plt.plot(range(2,500,25),AUC_OS)\n",
    "plt.xlabel(\"Max leaf nodes\")\n",
    "plt.ylabel(\"OS_AUC\")\n",
    "plt.title(\"AUC vs Complexity (max leaf nodes)\")\n",
    "plt.xlim(2,500)\n",
    "plt.show()"
   ]
  },
  {
   "cell_type": "markdown",
   "metadata": {},
   "source": [
    "c) Tune the hyper-parameter you choose in part a) by cross-validation using the training data. You can choose to use the GridSearchCV package from sklearn or write your own code to do cross-validation by spliting the training data into training and validation data. What is the out of sample accuracy after tuning the hyper-parameter? (10%)"
   ]
  },
  {
   "cell_type": "code",
   "execution_count": 35,
   "metadata": {
    "tags": []
   },
   "outputs": [
    {
     "name": "stdout",
     "output_type": "stream",
     "text": [
      "DecisionTreeClassifier(max_leaf_nodes=7)\n",
      "0.8201388888888889\n"
     ]
    }
   ],
   "source": [
    "from sklearn.metrics import make_scorer\n",
    "from sklearn.model_selection import GridSearchCV\n",
    "param_grid = {'max_leaf_nodes': range(2,200)}\n",
    "dt = DecisionTreeClassifier()\n",
    "scoring = make_scorer(roc_auc_score, average='macro', multi_class='ovo', needs_proba=True)\n",
    "gr = GridSearchCV(dt, param_grid=param_grid, scoring=scoring)\n",
    "rs = gr.fit(X_train, y_train)\n",
    "print(rs.best_estimator_)\n",
    "print(roc_auc_score(np.array(y_test), rs.predict_proba(X_test), multi_class='ovo', average='macro'))"
   ]
  },
  {
   "cell_type": "markdown",
   "metadata": {
    "tags": []
   },
   "source": [
    "d) Visualize a simple decision tree (e.g., with max_depth = 2 or 3) learned from the data.  To do so, given your decision tree dt, you can use the code below, then copy and paste the resulting output into http://www.webgraphviz.com.  Alternatively, if you have graphviz installed on your machine, you can use that. (10%)"
   ]
  },
  {
   "cell_type": "code",
   "execution_count": 36,
   "metadata": {
    "tags": []
   },
   "outputs": [
    {
     "data": {
      "image/png": "[encoded data removed]",
      "text/plain": [
       "<IPython.core.display.Image object>"
      ]
     },
     "execution_count": 36,
     "metadata": {},
     "output_type": "execute_result"
    }
   ],
   "source": [
    "dt = DecisionTreeClassifier(max_leaf_nodes=7,max_depth = 2)\n",
    "dt.fit(X_train,y_train)\n",
    "\n",
    "dot_data = export_graphviz(dt, out_file=None, \n",
    "                           feature_names=X_train.columns, \n",
    "                           class_names=['awful', 'high', 'low', 'medium'],\n",
    "                           filled=True, rounded=True, special_characters=True)\n",
    "\n",
    "graph = pydotplus.graph_from_dot_data(dot_data)\n",
    "Image(graph.create_png())"
   ]
  },
  {
   "cell_type": "markdown",
   "metadata": {},
   "source": [
    "### Question 4, Fit a random forest to the data from question 3 (20%)\n",
    "\n",
    "a) Please use the same test/train split from previous question and feel free to tune the hyper-parameters for Random Forest model using training data. The package from sklearn is here: http://scikit-learn.org/stable/modules/generated/sklearn.ensemble.RandomForestClassifier.html.\n",
    "Then please report your out of sample prediction result and compare this model's performance with 3c). (10%)"
   ]
  },
  {
   "cell_type": "code",
   "execution_count": 37,
   "metadata": {
    "tags": []
   },
   "outputs": [
    {
     "name": "stdout",
     "output_type": "stream",
     "text": [
      "0.9150132275132276\n"
     ]
    }
   ],
   "source": [
    "# same training data as above\n",
    "from sklearn.ensemble import RandomForestClassifier\n",
    "rf = RandomForestClassifier(n_estimators=30, n_jobs=-1,max_leaf_nodes=10)\n",
    "rf.fit(X_train, y_train)\n",
    "pred=rf.predict_proba(X_test)\n",
    "print(roc_auc_score(np.array(y_test), pred, multi_class='ovo', average='macro'))"
   ]
  },
  {
   "cell_type": "code",
   "execution_count": 38,
   "metadata": {
    "tags": []
   },
   "outputs": [
    {
     "data": {
      "image/png": "[encoded data removed]",
      "text/plain": [
       "<Figure size 700x500 with 1 Axes>"
      ]
     },
     "metadata": {},
     "output_type": "display_data"
    }
   ],
   "source": [
    "# your code here\n",
    "AUC=[]\n",
    "for i in range(1,51,5):\n",
    "    rf = RandomForestClassifier(n_estimators=i, n_jobs=-1,max_leaf_nodes=10)\n",
    "    rf = RandomForestClassifier(n_estimators=30, n_jobs=-1,max_leaf_nodes=10)\n",
    "    rf.fit(X_train, y_train)\n",
    "    pred=rf.predict_proba(X_test)\n",
    "    AUC.append(roc_auc_score(np.array(y_test), pred, multi_class='ovo', average='macro'))\n",
    "\n",
    "plt.figure(figsize=(7,5))\n",
    "plt.plot(range(1,51,5),AUC)\n",
    "plt.xlabel(\"Number of trees in forest\")\n",
    "plt.ylabel(\"OS_AUC\")\n",
    "plt.title(\"AUC vs num_estimators\")\n",
    "plt.xlim(1,51)\n",
    "plt.show()"
   ]
  },
  {
   "cell_type": "code",
   "execution_count": 39,
   "metadata": {
    "tags": []
   },
   "outputs": [
    {
     "name": "stdout",
     "output_type": "stream",
     "text": [
      "RandomForestClassifier(max_leaf_nodes=10, n_estimators=26, n_jobs=-1)\n",
      "0.905897266313933\n"
     ]
    }
   ],
   "source": [
    "param_grid = {'n_estimators':range(1,51,5)}\n",
    "rf = RandomForestClassifier(n_estimators=30, n_jobs=-1,max_leaf_nodes=10)\n",
    "scoring = make_scorer(roc_auc_score, average='macro', multi_class='ovo', needs_proba=True)\n",
    "gs = GridSearchCV(rf, param_grid=param_grid, scoring=scoring)\n",
    "rs = gs.fit(X_train, y_train)\n",
    "pred=rs.predict_proba(X_test)\n",
    "print(rs.best_estimator_)\n",
    "print(roc_auc_score(np.array(y_test), pred, multi_class='ovo', average='macro'))"
   ]
  },
  {
   "cell_type": "markdown",
   "metadata": {},
   "source": [
    "The accuracy of random forest is 0.905.\n",
    "\n",
    "The accuracy of decision tree is 0.820.\n",
    "\n",
    "As we can see, the accuracy of random forest is larger."
   ]
  },
  {
   "cell_type": "markdown",
   "metadata": {
    "tags": []
   },
   "source": [
    "b) Write one paragraph comparing the results from those two models (Random Forest vs Decision Tree) in terms of both accuracy and interpretability. (10%)"
   ]
  },
  {
   "cell_type": "markdown",
   "metadata": {},
   "source": [
    "Accuracy: The accuracy of Random Forest is larger than Decision Tree. This is because a random forest is usually an integrated model consisting of multiple decision trees. So through many training, the accuracy will be improved. Also, the decision tree selects a single feature at each node for partitioning, while the random forest selects a set of features for partitioning. By doing this, random forest could gain more information and improve its accuracy.\n",
    "\n",
    "Interpretability: The interpretability of decision tree is better because it chooses single feature for partitioning. By doing this, decision tree model can explain the significant of each factor. At the same time, the random forest combine different factor. When we try to explain it, we may not know the significant of each factor.\n"
   ]
  }
 ],
 "metadata": {
  "anaconda-cloud": {},
  "celltoolbar": "Raw Cell Format",
  "kernelspec": {
   "display_name": "Python 3 (ipykernel)",
   "language": "python",
   "name": "python3"
  },
  "language_info": {
   "codemirror_mode": {
    "name": "ipython",
    "version": 3
   },
   "file_extension": ".py",
   "mimetype": "text/x-python",
   "name": "python",
   "nbconvert_exporter": "python",
   "pygments_lexer": "ipython3",
   "version": "3.11.5"
  }
 },
 "nbformat": 4,
 "nbformat_minor": 4
}
